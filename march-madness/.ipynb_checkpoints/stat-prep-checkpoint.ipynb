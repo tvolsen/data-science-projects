{
 "cells": [
  {
   "cell_type": "code",
   "execution_count": 1,
   "id": "19e909f1",
   "metadata": {},
   "outputs": [],
   "source": [
    "# basic imports\n",
    "import pandas as pd"
   ]
  },
  {
   "cell_type": "code",
   "execution_count": 2,
   "id": "8e6a0032",
   "metadata": {},
   "outputs": [],
   "source": [
    "# create a dataframe to eventually export to csv\n",
    "df = pd.DataFrame()\n",
    "\n",
    "for year in range(2003, 2023):\n",
    "    if year == 2020 or year == 2021:\n",
    "        continue\n",
    "    # load the previously generated csv files\n",
    "    df_tour = pd.read_csv(f\"stats/{year}-tournament-stats.csv\")\n",
    "    df_total = pd.read_csv(f\"stats/{year}-total-stats.csv\")\n",
    "    df_records = pd.read_csv(f\"records/{year}-records.csv\")\n",
    "    # drop the year column to prevent repitition\n",
    "    df_total = df_total.drop(\"year\", axis=1)\n",
    "    df_tour = df_tour.drop(\"year\", axis=1)\n",
    "    # merge the records and stats of tournament teams\n",
    "    df1 = pd.merge(df_records, df_total, on=\"team\", how=\"left\")\n",
    "    df2 = pd.merge(df_records, df_tour, on=\"team\", how=\"left\")\n",
    "    # subtract the tournament stats from the total stats so there is no data-leakage\n",
    "    for col in ['pts', 'fgm', 'fga', '3pm', '3pa', 'ftm', 'fta', 'orb', 'drb', 'reb', 'ast', 'stl', 'blk', 'tov', 'pf']:\n",
    "        df1[col] = df1[col] - df2[col]\n",
    "    # concatenate the year to the rest of the dataframe\n",
    "    df = pd.concat([df, df1], ignore_index=True)"
   ]
  },
  {
   "cell_type": "code",
   "execution_count": 3,
   "id": "91145eef",
   "metadata": {},
   "outputs": [],
   "source": [
    "# function to generate the stat per game columns\n",
    "def stats_per_game(df):\n",
    "    num_games = df[\"wins\"] + df[\"losses\"]\n",
    "    # columns to be averaged per game\n",
    "    total_cols = ['pts', 'orb', 'drb', 'reb', 'ast', 'stl', 'blk', 'tov', 'pf']\n",
    "    # append pg to the column names above\n",
    "    per_game_cols = [c + \"pg\" for c in total_cols]\n",
    "    for stat, stat_per_game in zip(total_cols, per_game_cols):\n",
    "        # add the per game columns to the dataframe\n",
    "        df.insert(df.columns.get_loc(stat)+1, stat_per_game, df[stat]/num_games)\n",
    "stats_per_game(df)"
   ]
  },
  {
   "cell_type": "code",
   "execution_count": 4,
   "id": "620026d0",
   "metadata": {},
   "outputs": [],
   "source": [
    "# insert the win percentage column\n",
    "num_games = df[\"wins\"] + df[\"losses\"]\n",
    "df.insert(df.columns.get_loc(\"losses\")+1, \"winp\", df[\"wins\"]/num_games)"
   ]
  },
  {
   "cell_type": "code",
   "execution_count": 5,
   "id": "59331413",
   "metadata": {},
   "outputs": [],
   "source": [
    "# insert the conference win percentage column\n",
    "num_cgames = df[\"cwins\"] + df[\"closses\"]\n",
    "df.insert(df.columns.get_loc(\"closses\")+1, \"cwinp\", df[\"cwins\"]/num_cgames)"
   ]
  },
  {
   "cell_type": "code",
   "execution_count": 6,
   "id": "1336e3c0",
   "metadata": {},
   "outputs": [],
   "source": [
    "# insert the field goal percentage column\n",
    "df.insert(df.columns.get_loc(\"fga\")+1, \"fgp\", df[\"fgm\"]/df[\"fga\"])"
   ]
  },
  {
   "cell_type": "code",
   "execution_count": 7,
   "id": "24ad0dee",
   "metadata": {},
   "outputs": [],
   "source": [
    "# insert the 3 point percentage column\n",
    "df.insert(df.columns.get_loc(\"3pa\")+1, \"3pp\", df[\"3pm\"]/df[\"3pa\"])"
   ]
  },
  {
   "cell_type": "code",
   "execution_count": 8,
   "id": "4a6c60be",
   "metadata": {},
   "outputs": [],
   "source": [
    "# insert the free throw percentage column\n",
    "df.insert(df.columns.get_loc(\"fta\")+1, \"ftp\", df[\"ftm\"]/df[\"fta\"])"
   ]
  },
  {
   "cell_type": "code",
   "execution_count": 9,
   "id": "b14a8c31",
   "metadata": {},
   "outputs": [],
   "source": [
    "# round everything in the dataframe to 3 decimal places\n",
    "df = df.round(3)"
   ]
  },
  {
   "cell_type": "code",
   "execution_count": 10,
   "id": "5021d18f",
   "metadata": {},
   "outputs": [],
   "source": [
    "# save the dataframe to a csv file\n",
    "df.to_csv('stats-df.csv', index=False) "
   ]
  }
 ],
 "metadata": {
  "kernelspec": {
   "display_name": "Python 3 (ipykernel)",
   "language": "python",
   "name": "python3"
  },
  "language_info": {
   "codemirror_mode": {
    "name": "ipython",
    "version": 3
   },
   "file_extension": ".py",
   "mimetype": "text/x-python",
   "name": "python",
   "nbconvert_exporter": "python",
   "pygments_lexer": "ipython3",
   "version": "3.9.7"
  }
 },
 "nbformat": 4,
 "nbformat_minor": 5
}
