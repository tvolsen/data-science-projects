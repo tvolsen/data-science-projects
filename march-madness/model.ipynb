{
 "cells": [
  {
   "cell_type": "markdown",
   "id": "f7332fbc",
   "metadata": {},
   "source": [
    "# March Madness Bracket Predictor\n",
    "\n",
    "### The objective of this project is to use machine learning models in order to predict the outcomes of March Madness games, then using these predictions to generate a bracket. \n",
    "\n",
    "*This project is a work in progress. The initial goal is to get a minimum working example and then progressively improve the results via data exploration, additional models, further hyperparameter tuning, etc.*"
   ]
  },
  {
   "cell_type": "markdown",
   "id": "9d262237",
   "metadata": {},
   "source": [
    "## Outline:\n",
    "1. Problem Definition\n",
    "2. Data Explaination\n",
    "3. Evaluation\n",
    "4. Feature Selection\n",
    "5. Modeling\n",
    "6. Results and Summary"
   ]
  },
  {
   "cell_type": "markdown",
   "id": "a6880dd0",
   "metadata": {},
   "source": [
    "## 1. Problem Definition\n",
    "March Madness is the post season, 64-team bracket for (Men's) NCAA Basketball. The winner of the tournament is deemed the national champion. It is common practice to individually fill out these brackets prior to the start of the first game. The objective of this project is to predict the outcome of a game between two selected teams, this infomation will then be used to generate an entire bracket of predictions."
   ]
  },
  {
   "cell_type": "code",
   "execution_count": 3,
   "id": "11cc48bb",
   "metadata": {},
   "outputs": [],
   "source": [
    "#Basic imports, they were added as needed\n",
    "\n",
    "import pandas as pd\n",
    "import numpy as np\n",
    "import matplotlib.pyplot as plt\n",
    "import seaborn as sns\n",
    "\n",
    "from sklearn.model_selection import train_test_split\n",
    "from sklearn.linear_model import LogisticRegression\n",
    "from sklearn.ensemble import RandomForestClassifier\n",
    "from sklearn.neighbors import KNeighborsClassifier"
   ]
  },
  {
   "cell_type": "markdown",
   "id": "215ee087",
   "metadata": {},
   "source": [
    "## 2. Data Explanation\n",
    "The first batch of data this project is currently using data comes from [Sports Reference](https://www.sports-reference.com/cbb/seasons/2022-school-stats.html). The data contains numerous statistics of each team from the year 00-01 until 21-22 college basketball seasons. These statistics include:\n",
    "* Wins\n",
    "* Loses\n",
    "* (SRS) Sample Rating System (a rating which takes into account average point differential and strength of schedule)\n",
    "* (SOS) Strength of Schedule\n",
    "* Conference Wins\n",
    "* Conference Losses\n",
    "* Home Wins\n",
    "* Home Losses\n",
    "* Team Points \n",
    "* Opponent Points\n",
    "* Minutes Played\n",
    "* Field Goals\n",
    "*\n",
    "*\n",
    "*\n",
    "*\n",
    "*\n",
    "*\n",
    "*\n",
    "*\n",
    "*\n",
    "*"
   ]
  },
  {
   "cell_type": "code",
   "execution_count": null,
   "id": "d95ed781",
   "metadata": {},
   "outputs": [],
   "source": []
  }
 ],
 "metadata": {
  "kernelspec": {
   "display_name": "Python 3 (ipykernel)",
   "language": "python",
   "name": "python3"
  },
  "language_info": {
   "codemirror_mode": {
    "name": "ipython",
    "version": 3
   },
   "file_extension": ".py",
   "mimetype": "text/x-python",
   "name": "python",
   "nbconvert_exporter": "python",
   "pygments_lexer": "ipython3",
   "version": "3.9.7"
  }
 },
 "nbformat": 4,
 "nbformat_minor": 5
}
