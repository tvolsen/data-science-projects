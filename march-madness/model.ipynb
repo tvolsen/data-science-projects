{
 "cells": [
  {
   "cell_type": "markdown",
   "id": "f7332fbc",
   "metadata": {},
   "source": [
    "# March Madness Bracket Predictor\n",
    "\n",
    "### The objective of this project is to use machine learning models in order to predict the outcomes of March Madness games, then using these predictions to generate a bracket. \n",
    "\n",
    "*This project is a work in progress. The initial goal is to get a minimum working example and then progressively improve the results via data exploration, additional models, further hyperparameter tuning, etc.*"
   ]
  },
  {
   "cell_type": "markdown",
   "id": "9d262237",
   "metadata": {},
   "source": [
    "## Outline:\n",
    "1. Problem Definition\n",
    "2. Data Explaination\n",
    "3. Evaluation\n",
    "4. Feature Selection\n",
    "5. Modeling\n",
    "6. Results and Summary"
   ]
  },
  {
   "cell_type": "markdown",
   "id": "a6880dd0",
   "metadata": {},
   "source": [
    "## 1. Problem Definition\n",
    "March Madness is the post season, 64-team bracket for (Men's) NCAA Basketball. The winner of the tournament is deemed the national champion. It is common practice to individually fill out these brackets prior to the start of the first game. The objective of this project is to predict the outcome of a game between two selected teams, this infomation will then be used to generate an entire bracket of predictions."
   ]
  },
  {
   "cell_type": "code",
   "execution_count": 3,
   "id": "11cc48bb",
   "metadata": {},
   "outputs": [],
   "source": [
    "#Basic imports, they were added as needed\n",
    "\n",
    "import pandas as pd\n",
    "import numpy as np\n",
    "import matplotlib.pyplot as plt\n",
    "import seaborn as sns\n",
    "\n",
    "from sklearn.model_selection import train_test_split\n",
    "from sklearn.linear_model import LogisticRegression\n",
    "from sklearn.ensemble import RandomForestClassifier\n",
    "from sklearn.neighbors import KNeighborsClassifier"
   ]
  },
  {
   "cell_type": "markdown",
   "id": "215ee087",
   "metadata": {},
   "source": [
    "## 2. Data Explanation\n",
    "This project is currently using data from [RealGM](https://basketball.realgm.com/ncaa/team-stats/2022/Totals/Team_Totals/0). The data contains numerous statistics of each team from the year 02-03 until 21-22 (excluding 19-20 and 20-21 due to COVID irregularities). These statistics include:\n",
    "* seed = Seed in the NCAA tournament\n",
    "* wins = Number of wins\n",
    "* losses = Number of losses\n",
    "* winsp = Win percentage\n",
    "* cwins = Number of conference wins\n",
    "* closses = Number of conference losses\n",
    "* cwinsp = Conference win percentage\n",
    "* pts = Number of points scored\n",
    "* ptspg = Points per game\n",
    "* fgm = Number of field goals made\n",
    "* fga = Number of field goals attempted\n",
    "* fgp = Field goal percentage\n",
    "* 3pm = Number of 3 pointers made\n",
    "* 3pa = Number of 3 pointers attempted\n",
    "* 3pp = 3 pointer percentage \n",
    "* ftm = Number of free throws made\n",
    "* fta = Number of free throws attempted\n",
    "* ftp = Free throw percentage\n",
    "* orb = Number of offensive rebounds\n",
    "* orbpg = Offensive rebounds per game\n",
    "* drb = Number of defensive rebounds\n",
    "* drbpg = Defensive rebounds per game\n",
    "* reb = Number of rebounds\n",
    "* rebpg = Rebounds per game\n",
    "* ast = Number of assists\n",
    "* astpg = Assists per game\n",
    "* stl = Number of steals\n",
    "* stlpg = Steals per game\n",
    "* blk = Number of blocks\n",
    "* blkpg = Blocks per game\n",
    "* tov = Number of turnovers\n",
    "* tovpg = Turnovers per game\n",
    "* pf = Number of personal fouls\n",
    "* pfpg = Personal fouls per game"
   ]
  },
  {
   "cell_type": "code",
   "execution_count": null,
   "id": "d95ed781",
   "metadata": {},
   "outputs": [],
   "source": [
    "Index(['year', 'team', 'seed', 'wins', 'losses', 'cwins', 'closses', 'pts',\n",
    "       'fgm', 'fga', '3pm', '3pa', 'ftm', 'fta', 'orb', 'drb', 'reb', 'ast',\n",
    "       'stl', 'blk', 'tov', 'pf'],"
   ]
  }
 ],
 "metadata": {
  "kernelspec": {
   "display_name": "Python 3 (ipykernel)",
   "language": "python",
   "name": "python3"
  },
  "language_info": {
   "codemirror_mode": {
    "name": "ipython",
    "version": 3
   },
   "file_extension": ".py",
   "mimetype": "text/x-python",
   "name": "python",
   "nbconvert_exporter": "python",
   "pygments_lexer": "ipython3",
   "version": "3.9.7"
  }
 },
 "nbformat": 4,
 "nbformat_minor": 5
}
