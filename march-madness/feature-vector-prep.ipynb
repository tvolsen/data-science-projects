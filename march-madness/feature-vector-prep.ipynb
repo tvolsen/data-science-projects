{
 "cells": [
  {
   "cell_type": "code",
   "execution_count": 41,
   "id": "5e4abb05",
   "metadata": {},
   "outputs": [],
   "source": [
    "# basic imports\n",
    "import pandas as pd\n",
    "import numpy as np"
   ]
  },
  {
   "cell_type": "code",
   "execution_count": 42,
   "id": "4caa04f5",
   "metadata": {},
   "outputs": [],
   "source": [
    "all_stats = pd.read_csv(\"all_stats.csv\")"
   ]
  },
  {
   "cell_type": "code",
   "execution_count": 43,
   "id": "165ef92c",
   "metadata": {},
   "outputs": [],
   "source": [
    "# create a dataframe of each tournament game\n",
    "df_games = pd.DataFrame({})\n",
    "for year in range(2003, 2023):\n",
    "    if year == 2020 or year == 2021:\n",
    "        continue\n",
    "    df_bracket = pd.read_csv(f\"brackets/{year}-bracket.csv\")\n",
    "    df_bracket = df_bracket[df_bracket[\"round\"] > 0]\n",
    "    year_stats = all_stats[all_stats[\"year\"] == year]\n",
    "    for i, game in df_bracket.iterrows():\n",
    "        teams = [game.team0, game.team1]\n",
    "        teams_df = year_stats[year_stats[\"team\"].isin(teams)]\n",
    "        if len(teams_df) < 2:\n",
    "            continue\n",
    "        team0 = teams_df.iloc[0].drop([\"year\", \"team\"])\n",
    "        team1 = teams_df.iloc[1].drop([\"year\", \"team\"])\n",
    "        \n",
    "        team0_team1 = team0 - team1\n",
    "        team0_team1[\"year\"] = game.year\n",
    "        team0_team1[\"team0\"] = game.team0\n",
    "        team0_team1[\"team1\"] = game.team1\n",
    "        \n",
    "        team1_team0 = team1 - team0\n",
    "        team1_team0[\"year\"] = game.year\n",
    "        team1_team0[\"team0\"] = game.team1\n",
    "        team1_team0[\"team1\"] = game.team0\n",
    "        if np.isnan(game.winner):\n",
    "            team0_team1[\"result\"] = np.nan\n",
    "            team1_team0[\"result\"] = np.nan\n",
    "        else:\n",
    "            team0_team1[\"result\"] = game.winner\n",
    "            team1_team0[\"result\"] = 1 - game.winner\n",
    "        \n",
    "        df_games = df_games.append(team0_team1, ignore_index=True)\n",
    "        df_games = df_games.append(team1_team0, ignore_index=True)"
   ]
  },
  {
   "cell_type": "code",
   "execution_count": 44,
   "id": "3221f94f",
   "metadata": {},
   "outputs": [],
   "source": [
    "df_games = df_games.round(3)\n",
    "df_games.to_csv(\"input-vectors.csv\", index=False)"
   ]
  },
  {
   "cell_type": "code",
   "execution_count": null,
   "id": "c7d3c8ce",
   "metadata": {},
   "outputs": [],
   "source": []
  }
 ],
 "metadata": {
  "kernelspec": {
   "display_name": "Python 3 (ipykernel)",
   "language": "python",
   "name": "python3"
  },
  "language_info": {
   "codemirror_mode": {
    "name": "ipython",
    "version": 3
   },
   "file_extension": ".py",
   "mimetype": "text/x-python",
   "name": "python",
   "nbconvert_exporter": "python",
   "pygments_lexer": "ipython3",
   "version": "3.9.7"
  }
 },
 "nbformat": 4,
 "nbformat_minor": 5
}
