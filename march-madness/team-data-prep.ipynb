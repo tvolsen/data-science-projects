{
 "cells": [
  {
   "cell_type": "code",
   "execution_count": 1,
   "id": "6d1d9d17",
   "metadata": {},
   "outputs": [
    {
     "data": {
      "text/html": [
       "<style>.container { width:90% !important; }</style>"
      ],
      "text/plain": [
       "<IPython.core.display.HTML object>"
      ]
     },
     "metadata": {},
     "output_type": "display_data"
    }
   ],
   "source": [
    "from IPython.display import display, HTML\n",
    "display(HTML(\"<style>.container { width:90% !important; }</style>\"))"
   ]
  },
  {
   "cell_type": "code",
   "execution_count": 2,
   "id": "5e4abb05",
   "metadata": {},
   "outputs": [],
   "source": [
    "# basic imports\n",
    "import pandas as pd"
   ]
  },
  {
   "cell_type": "code",
   "execution_count": 3,
   "id": "e9281e14",
   "metadata": {},
   "outputs": [],
   "source": [
    "all_stats = pd.DataFrame({})\n",
    "addi = 0\n",
    "\n",
    "for year in range(2003, 2023):\n",
    "    if year == 2020 or year == 2021:\n",
    "        continue\n",
    "    # load the previously generated csv files\n",
    "    df_tour_stats = pd.read_csv(f\"stats/{year}-tournament-stats.csv\")\n",
    "    df_stats = pd.read_csv(f\"stats/{year}-total-stats.csv\")\n",
    "    df_records = pd.read_csv(f\"records/{year}-records.csv\")\n",
    "    \n",
    "    # which cols do we want to substract the tour from the total stats\n",
    "    cols = ['pts', 'fgm', 'fga', '3pm',\n",
    "            '3pa', 'ftm', 'fta', 'orb',\n",
    "            'drb', 'reb', 'ast', 'stl',\n",
    "            'blk', 'tov', 'pf']\n",
    "    \n",
    "    # merge the total and tour stats, then substract the stat columns\n",
    "    df_stats = pd.merge(df_stats, df_tour_stats, on=[\"year\", \"team\"], how=\"left\", suffixes=[\"_total\", \"_tour\"])\n",
    "    for col in cols:\n",
    "        total = f\"{col}_total\"\n",
    "        tour = f\"{col}_tour\"\n",
    "        df_stats[col] = df_stats[total] - df_stats[tour]\n",
    "        df_stats = df_stats.drop([total, tour], axis=1)\n",
    "    \n",
    "    # merge in the records and drop na\n",
    "    df_stats = pd.merge(df_stats, df_records, on=[\"year\", \"team\"], how=\"left\")\n",
    "    df_stats = df_stats.dropna()\n",
    "    \n",
    "    # total number of games played\n",
    "    num_games = df_stats[\"wins\"] + df_stats[\"losses\"]\n",
    "    \n",
    "    # columns to be averaged per game\n",
    "    total_cols = ['pts', 'orb', 'drb', 'reb', 'ast', 'stl', 'blk', 'tov', 'pf']\n",
    "    \n",
    "    # append pg to the column names above\n",
    "    per_game_cols = [col + \"pg\" for col in total_cols]\n",
    "    for stat, stat_per_game in zip(total_cols, per_game_cols):\n",
    "        # add the per game columns to the dataframe\n",
    "        df_stats.insert(df_stats.columns.get_loc(stat)+1, stat_per_game, df_stats[stat]/num_games)\n",
    "    df_stats.insert(df_stats.columns.get_loc(\"losses\")+1, \"winp\", df_stats[\"wins\"]/num_games)\n",
    "    \n",
    "    # insert the conference win percentage column\n",
    "    num_cgames = df_stats[\"cwins\"] + df_stats[\"closses\"]\n",
    "    df_stats.insert(df_stats.columns.get_loc(\"closses\")+1, \"cwinp\", df_stats[\"cwins\"]/num_cgames)\n",
    "    \n",
    "    # insert the field goal percentage column\n",
    "    df_stats.insert(df_stats.columns.get_loc(\"fga\")+1, \"fgp\", df_stats[\"fgm\"]/df_stats[\"fga\"])\n",
    "    \n",
    "    # insert the 3 point percentage column\n",
    "    df_stats.insert(df_stats.columns.get_loc(\"3pa\")+1, \"3pp\", df_stats[\"3pm\"]/df_stats[\"3pa\"])\n",
    "    \n",
    "    # insert the free throw percentage column\n",
    "    df_stats.insert(df_stats.columns.get_loc(\"fta\")+1, \"ftp\", df_stats[\"ftm\"]/df_stats[\"fta\"])\n",
    "    \n",
    "    # round everything in the dataframe to 3 decimal places\n",
    "    df_stats = df_stats.round(3)\n",
    "    \n",
    "    # append the current year to the list of all years\n",
    "    all_stats = pd.concat([all_stats, df_stats], ignore_index=True) \n",
    "    \n",
    "    "
   ]
  },
  {
   "cell_type": "code",
   "execution_count": 4,
   "id": "3c351aba",
   "metadata": {},
   "outputs": [],
   "source": [
    "all_stats.to_csv(\"all_stats.csv\")"
   ]
  },
  {
   "cell_type": "code",
   "execution_count": null,
   "id": "2441b77e",
   "metadata": {},
   "outputs": [],
   "source": []
  },
  {
   "cell_type": "code",
   "execution_count": null,
   "id": "f91dda75",
   "metadata": {},
   "outputs": [],
   "source": [
    "# all_stats.columns"
   ]
  },
  {
   "cell_type": "code",
   "execution_count": null,
   "id": "969339a4",
   "metadata": {},
   "outputs": [],
   "source": [
    "# df_tour_stats = df_tour_stats.set_index([\"year\", \"team\"])\n",
    "# df_tour_stats\n",
    "# # dfB = dfB.set_index(['Department', 'Speciality', 'TargetMonth'])"
   ]
  },
  {
   "cell_type": "code",
   "execution_count": null,
   "id": "52ffc6e3",
   "metadata": {},
   "outputs": [],
   "source": [
    "# df_stats.dropna()"
   ]
  },
  {
   "cell_type": "code",
   "execution_count": null,
   "id": "367dc1de",
   "metadata": {},
   "outputs": [],
   "source": [
    "# df_tour_stats[df_tour_stats[\"team\"]==\"Yale\"]"
   ]
  },
  {
   "cell_type": "code",
   "execution_count": null,
   "id": "5f79fc03",
   "metadata": {},
   "outputs": [],
   "source": [
    "# df_stats[df_stats[\"team\"]==\"Yale\"]"
   ]
  },
  {
   "cell_type": "code",
   "execution_count": null,
   "id": "4b155f0a",
   "metadata": {},
   "outputs": [],
   "source": [
    "# df_records[df_records[\"team\"]==\"Yale\"]"
   ]
  },
  {
   "cell_type": "code",
   "execution_count": null,
   "id": "d4e30b52",
   "metadata": {},
   "outputs": [],
   "source": [
    "# df_stats[df_stats[\"team\"].isin(teams)]"
   ]
  },
  {
   "cell_type": "code",
   "execution_count": null,
   "id": "4caa04f5",
   "metadata": {},
   "outputs": [],
   "source": [
    "# # # create a dataframe of each team's statistics\n",
    "# # df_stats = pd.DataFrame()\n",
    "\n",
    "# # for year in range(2003, 2023):\n",
    "# #     if year == 2020 or year == 2021:\n",
    "# #         continue\n",
    "# #     # load the previously generated csv files\n",
    "# #     df_tour = pd.read_csv(f\"stats/{year}-tournament-stats.csv\")\n",
    "#     df_total = pd.read_csv(f\"stats/{year}-total-stats.csv\")\n",
    "#     df_records = pd.read_csv(f\"records/{year}-records.csv\")\n",
    "#     # drop the year column to prevent repitition\n",
    "#     df_total = df_total.drop(\"year\", axis=1)\n",
    "#     df_tour = df_tour.drop(\"year\", axis=1)\n",
    "#     # merge the records and stats of tournament teams\n",
    "#     df1 = pd.merge(df_records, df_total, on=\"team\", how=\"left\")\n",
    "#     df2 = pd.merge(df_records, df_tour, on=\"team\", how=\"left\")\n",
    "#     # subtract the tournament stats from the total stats so there is no data-leakage\n",
    "#     for col in ['pts', 'fgm', 'fga', '3pm', '3pa', 'ftm', 'fta', 'orb', 'drb', 'reb', 'ast', 'stl', 'blk', 'tov', 'pf']:\n",
    "#         df1[col] = df1[col] - df2[col]\n",
    "    \n",
    "#     # concatenate the year to the rest of the dataframe\n",
    "#     df_stats = pd.concat([df_stats, df1], ignore_index=True)"
   ]
  },
  {
   "cell_type": "code",
   "execution_count": null,
   "id": "823630a0",
   "metadata": {},
   "outputs": [],
   "source": [
    "#     # total number of games played\n",
    "#     num_games = df_stats[\"wins\"] + df_stats[\"losses\"]\n",
    "    \n",
    "#     # columns to be averaged per game\n",
    "#     total_cols = ['pts', 'orb', 'drb', 'reb', 'ast', 'stl', 'blk', 'tov', 'pf']\n",
    "    \n",
    "#     # append pg to the column names above\n",
    "#     per_game_cols = [col + \"pg\" for col in total_cols]\n",
    "#     for stat, stat_per_game in zip(total_cols, per_game_cols):\n",
    "#         # add the per game columns to the dataframe\n",
    "#         df_stats.insert(df_stats.columns.get_loc(stat)+1, stat_per_game, df_stats[stat]/num_games)\n",
    "#     df_stats.insert(df_stats.columns.get_loc(\"losses\")+1, \"winp\", df_stats[\"wins\"]/num_games)\n",
    "    \n",
    "#     # insert the conference win percentage column\n",
    "#     num_cgames = df_stats[\"cwins\"] + df_stats[\"closses\"]\n",
    "#     df_stats.insert(df_stats.columns.get_loc(\"closses\")+1, \"cwinp\", df_stats[\"cwins\"]/num_cgames)\n",
    "    \n",
    "#     # insert the field goal percentage column\n",
    "#     df_stats.insert(df_stats.columns.get_loc(\"fga\")+1, \"fgp\", df_stats[\"fgm\"]/df_stats[\"fga\"])\n",
    "    \n",
    "#     # insert the 3 point percentage column\n",
    "#     df_stats.insert(df_stats.columns.get_loc(\"3pa\")+1, \"3pp\", df_stats[\"3pm\"]/df_stats[\"3pa\"])\n",
    "    \n",
    "#     # insert the free throw percentage column\n",
    "#     df_stats.insert(df_stats.columns.get_loc(\"fta\")+1, \"ftp\", df_stats[\"ftm\"]/df_stats[\"fta\"])\n",
    "    \n",
    "#     # round everything in the dataframe to 3 decimal places\n",
    "#     df_stats = df_stats.round(3)"
   ]
  },
  {
   "cell_type": "code",
   "execution_count": null,
   "id": "c8e1b29c",
   "metadata": {},
   "outputs": [],
   "source": [
    "# # insert the win percentage column\n",
    "# num_games = df_stats[\"wins\"] + df_stats[\"losses\"]\n",
    "# df_stats.insert(df_stats.columns.get_loc(\"losses\")+1, \"winp\", df_stats[\"wins\"]/num_games)"
   ]
  },
  {
   "cell_type": "code",
   "execution_count": null,
   "id": "dc424f03",
   "metadata": {},
   "outputs": [],
   "source": [
    "# # insert the conference win percentage column\n",
    "# num_cgames = df_stats[\"cwins\"] + df_stats[\"closses\"]\n",
    "# df_stats.insert(df_stats.columns.get_loc(\"closses\")+1, \"cwinp\", df_stats[\"cwins\"]/num_cgames)"
   ]
  },
  {
   "cell_type": "code",
   "execution_count": null,
   "id": "4f1d350a",
   "metadata": {},
   "outputs": [],
   "source": [
    "# # insert the field goal percentage column\n",
    "# df_stats.insert(df_stats.columns.get_loc(\"fga\")+1, \"fgp\", df_stats[\"fgm\"]/df_stats[\"fga\"])"
   ]
  },
  {
   "cell_type": "code",
   "execution_count": null,
   "id": "52f526c7",
   "metadata": {},
   "outputs": [],
   "source": [
    "# # insert the 3 point percentage column\n",
    "# df_stats.insert(df_stats.columns.get_loc(\"3pa\")+1, \"3pp\", df_stats[\"3pm\"]/df_stats[\"3pa\"])"
   ]
  },
  {
   "cell_type": "code",
   "execution_count": null,
   "id": "744fa839",
   "metadata": {},
   "outputs": [],
   "source": [
    "# # insert the free throw percentage column\n",
    "# df_stats.insert(df_stats.columns.get_loc(\"fta\")+1, \"ftp\", df_stats[\"ftm\"]/df_stats[\"fta\"])"
   ]
  },
  {
   "cell_type": "code",
   "execution_count": null,
   "id": "6a22c3f8",
   "metadata": {},
   "outputs": [],
   "source": [
    "# # round everything in the dataframe to 3 decimal places\n",
    "# df_stats = df_stats.round(3)"
   ]
  },
  {
   "cell_type": "code",
   "execution_count": null,
   "id": "9d8487c6",
   "metadata": {},
   "outputs": [],
   "source": [
    "# df_stats"
   ]
  },
  {
   "cell_type": "code",
   "execution_count": null,
   "id": "165ef92c",
   "metadata": {},
   "outputs": [],
   "source": [
    "# # create a dataframe of each tournament game\n",
    "# df_games = pd.DataFrame()\n",
    "# for year in range(2003, 2023):\n",
    "#     if year == 2020 or year == 2021:\n",
    "#         continue\n",
    "#     # load the previously generated csv files\n",
    "#     df_bracket = pd.read_csv(f\"brackets/{year}-bracket.csv\")\n",
    "#     df_bracket = df_bracket[df_bracket[\"round\"] > 0]\n",
    "#     df_games = pd.concat([df_games, df_bracket], ignore_index=True)\n",
    "# df_games[\"year\"] = df_games[\"year\"].astype(int)"
   ]
  },
  {
   "cell_type": "code",
   "execution_count": null,
   "id": "616bf848",
   "metadata": {},
   "outputs": [],
   "source": [
    "# df_games"
   ]
  },
  {
   "cell_type": "code",
   "execution_count": null,
   "id": "3c5ba8c2",
   "metadata": {},
   "outputs": [],
   "source": [
    "# df = pd.DataFrame()\n",
    "\n",
    "# for i, game in df_games.iterrows():\n",
    "#     winner = df_stats[(df_stats[\"team\"] == game[\"winner\"]) & (df_stats[\"year\"] == game[\"year\"])]\n",
    "#     loser = df_stats[(df_stats[\"year\"] == game[\"year\"]) & (df_stats[\"team\"] == game[\"loser\"])]\n",
    "#     winner_loser = pd.Series(dtype=object)\n",
    "#     winner_loser[\"year\"] = game[\"year\"]\n",
    "#     winner_loser[\"team0\"] = game[\"winner\"]\n",
    "#     winner_loser[\"team1\"] = game[\"loser\"]\n",
    "#     winner_loser = winner_loser.append(winner.squeeze()[2:] - loser.squeeze()[2:])\n",
    "#     winner_loser[\"result\"] = 0\n",
    "#     df = pd.concat([df, winner_loser.to_frame().T], ignore_index=True)\n",
    "#     loser_winner = pd.Series(dtype=object)\n",
    "#     loser_winner[\"year\"] = game[\"year\"]\n",
    "#     loser_winner[\"team0\"] = game[\"loser\"]\n",
    "#     loser_winner[\"team1\"] = game[\"winner\"]\n",
    "#     loser_winner = loser_winner.append(loser.squeeze()[2:] - winner.squeeze()[2:])\n",
    "#     loser_winner[\"result\"] = 1\n",
    "#     df = pd.concat([df, loser_winner.to_frame().T], ignore_index=True)\n",
    "    \n",
    "# df"
   ]
  },
  {
   "cell_type": "code",
   "execution_count": null,
   "id": "1512de9f",
   "metadata": {},
   "outputs": [],
   "source": [
    "# # save the dataframe to a csv file\n",
    "# df.to_csv('feature-vectors.csv', index=False) "
   ]
  }
 ],
 "metadata": {
  "kernelspec": {
   "display_name": "Python 3 (ipykernel)",
   "language": "python",
   "name": "python3"
  },
  "language_info": {
   "codemirror_mode": {
    "name": "ipython",
    "version": 3
   },
   "file_extension": ".py",
   "mimetype": "text/x-python",
   "name": "python",
   "nbconvert_exporter": "python",
   "pygments_lexer": "ipython3",
   "version": "3.9.7"
  }
 },
 "nbformat": 4,
 "nbformat_minor": 5
}
